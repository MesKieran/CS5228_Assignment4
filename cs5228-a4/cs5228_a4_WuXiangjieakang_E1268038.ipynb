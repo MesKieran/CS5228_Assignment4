{
 "cells": [
  {
   "cell_type": "markdown",
   "id": "763f0fa0-6584-44d4-b163-a891252769f9",
   "metadata": {},
   "source": [
    "# CS5228 Assignment 4 - Recommender Systems & Graph Mining\n",
    "\n",
    "Hello everyone, this assignment notebook covers Recommender Systems & Graph Mining. There are some code-completion tasks and question-answering tasks in this answer sheet. For code completion tasks, please write down your answer (i.e., your lines of code) between sentences that \"Your code starts here\" and \"Your code ends here\". The space between these two lines does not reflect the required or expected lines of code. For answers in plain text, you can refer to [this Markdown guide](https://medium.com/analytics-vidhya/the-ultimate-markdown-guide-for-jupyter-notebook-d5e5abf728fd) to customize the layout (although it shouldn't be needed).\n",
    "\n",
    "When you work on this notebook, you can insert additional code cells (e.g., for testing) or markdown cells (e.g., to keep track of your thoughts). However, before the submission, please remove all those additional cells again. Thanks!\n",
    "\n",
    "**Important:**\n",
    "* Rename and save this Jupyter notebook as **cs5228_a4_YourName_YourNUSNETID.ipynb** (e.g., **cs5228_a4_BobSmith_e12345678.ipynb**) before submission!\n",
    "* Rename and save the script file *cs5228_a4.py* as **cs5228_a4_YourName_YourNUSNETID.py** (e.g., **cs5228_a4_BobSmith_e12345678.py**) before submission!\n",
    "* Submission deadline is Nov XX, 11.59 pm. Late submissions will be penalized by 10% for each additional day. Failure to appropriately rename both files will yield a penalty of 1 Point. There is no need to use your full name if it's rather long; it's just  important to easily identify you in Canvas etc.\n",
    "\n",
    "Please also add your NUSNET and student id in the code cell below. This is just to make any identification of your notebook doubly sure."
   ]
  },
  {
   "cell_type": "code",
   "execution_count": 1,
   "id": "119a3b10-7afe-4814-9a79-32310842f1c3",
   "metadata": {},
   "outputs": [],
   "source": [
    "student_id = 'E1268038'\n",
    "nusnet_id = 'A0286970M'"
   ]
  },
  {
   "cell_type": "markdown",
   "id": "f7455d1c-31ad-4620-8d8a-ad2adc363f56",
   "metadata": {},
   "source": [
    "Here is an overview over the tasks to be solved and the points associated with each task. The notebook can appear very long and verbose, but note that a lot of parts provide additional explanations, documentation, or some discussion. The code and markdown cells you are supposed to complete are well, but you can use the overview below to double-check that you covered everything.\n",
    "\n",
    "* **1 Recommender Systems (30 Points)**\n",
    "    * 1.1 Content-based (User-Item Similarities) (7 Points)\n",
    "        * 1.1 a) Calculate User Profile (5 Points)\n",
    "        * 1.1 b) Calculate User-Item Similarities (2 Points)\n",
    "    * 1.2 User-based Collaborative Filtering (7 Points)\n",
    "        * 1.2 a) Calculate User-User Similarities (5 Points)\n",
    "        * 1.2 b) Calculate Estimated Rating (2 Points)\n",
    "    * 1.3 Matrix Factorization (16 Points)\n",
    "        * 1.3 a) Implement Non-Negative Matrix Factorization (8 Points)\n",
    "        * 1.3 b) Hyperparameter Exploration (3 Points)\n",
    "        * 1.3 c) Matrix Factorization & Updates (5 Points)\n",
    "* **2 Graph Mining (20 Points)**\n",
    "    * 2.1 Implementing Closeness Centrality (4 Points)\n",
    "    * 2.2 Implementing PageRank Centrality (8 Points)\n",
    "    * 2.3 Comparing Centrality Measures (8 Points)\n",
    "        * 2.3 a) Run Off-The-Shelf Centrality Algorithms (3 Points)\n",
    "        * 2.3 b) Discussion of Results (5 Points)"
   ]
  },
  {
   "cell_type": "markdown",
   "id": "60a4e6d6-30f8-4722-9750-4986c33fcccd",
   "metadata": {},
   "source": [
    "## Setting up the Notebook\n",
    "\n",
    "### Enable Auto-Reload\n",
    "\n",
    "This ensures that any saved changes to your `.py` file gets automatically reloaded."
   ]
  },
  {
   "cell_type": "code",
   "execution_count": 2,
   "id": "65641534-c0db-491c-8f9a-475ba94a5c6c",
   "metadata": {},
   "outputs": [],
   "source": [
    "%load_ext autoreload\n",
    "%autoreload 2"
   ]
  },
  {
   "cell_type": "markdown",
   "id": "cad660cb-6a44-4906-8756-d18ec238bf09",
   "metadata": {},
   "source": [
    "### Enable \"Inline Plotting\""
   ]
  },
  {
   "cell_type": "code",
   "execution_count": 3,
   "id": "8067a9c2-d8d6-4cb5-b994-07fdc2c51b17",
   "metadata": {},
   "outputs": [],
   "source": [
    "%matplotlib inline"
   ]
  },
  {
   "cell_type": "markdown",
   "id": "a1bdd634-a20d-491b-9339-49eab3ab7205",
   "metadata": {},
   "source": [
    "### Importing Required Packages"
   ]
  },
  {
   "cell_type": "code",
   "execution_count": 4,
   "id": "4ca2bb72-8aa3-4d53-9d2a-e4953aa02592",
   "metadata": {},
   "outputs": [],
   "source": [
    "import numpy as np\n",
    "import pandas as pd\n",
    "import networkx as nx\n",
    "\n",
    "from src.utils import plot_mrt_graph"
   ]
  },
  {
   "cell_type": "markdown",
   "id": "befecf0d-9ea3-4355-abb3-6cc7b1daa7ec",
   "metadata": {},
   "source": [
    "**Important:** This notebook also requires you to complete in a separate `.py` script file. This keeps this notebook cleaner and simplifies testing your implementations for us. As you need to rename the file `cs5228_a4.py`, you also need to edit the import statement below accordingly."
   ]
  },
  {
   "cell_type": "code",
   "execution_count": 5,
   "id": "0c0827e5-fcc6-42d4-93df-96258a07cec3",
   "metadata": {},
   "outputs": [],
   "source": [
    "from cs5228_a4_WuXiangjiekang_E1268038 import *\n",
    "#from cs5228_a4_BobSmith_e12345678 import get_noise_dbscan # <-- you will need to rename this accordingly"
   ]
  },
  {
   "cell_type": "markdown",
   "id": "872ccaa8-0df8-4b2c-9676-0f872ec645d8",
   "metadata": {},
   "source": [
    "---"
   ]
  },
  {
   "cell_type": "markdown",
   "id": "4e65ca2e-36ac-4d5e-aa5d-b5c5e39ba1a4",
   "metadata": {},
   "source": [
    "## 1 Recommender Systems\n"
   ]
  },
  {
   "cell_type": "markdown",
   "id": "6ce33383-b661-4357-b37e-3a27e2aa3b06",
   "metadata": {},
   "source": [
    "### 1.1 Content-based (User-Item Similarities) (7 Points)\n",
    "\n",
    "The [Spotify Dataset 1921-2020](https://www.kaggle.com/yamaerenay/spotify-dataset-19212020-160k-tracks) contains over 175,000 songs with both [audio features](https://developer.spotify.com/documentation/web-api/reference/#endpoint-get-audio-features) and [track features](https://developer.spotify.com/documentation/web-api/reference/#endpoint-get-track). For this task, we look at 6 different songs an individual user $u$ has rated, and limit ourselves to 4 audio features, all ranging from 0 to 1. Note that this is somewhat different to the example from the lecture where we had only 0 or 1 as feature values -- recall that our features were only binary indicating whether a movie belonged to a certain genre. However, this does not change the calculation.\n",
    "\n",
    "**Important:** The ratings are not part of the dataset but manually added for this task. The range of the ratings is from 1 to 10."
   ]
  },
  {
   "cell_type": "code",
   "execution_count": 6,
   "id": "5a44e018-246e-426b-8461-8611d94e4112",
   "metadata": {},
   "outputs": [
    {
     "data": {
      "text/html": [
       "<div>\n",
       "<style scoped>\n",
       "    .dataframe tbody tr th:only-of-type {\n",
       "        vertical-align: middle;\n",
       "    }\n",
       "\n",
       "    .dataframe tbody tr th {\n",
       "        vertical-align: top;\n",
       "    }\n",
       "\n",
       "    .dataframe thead th {\n",
       "        text-align: right;\n",
       "    }\n",
       "</style>\n",
       "<table border=\"1\" class=\"dataframe\">\n",
       "  <thead>\n",
       "    <tr style=\"text-align: right;\">\n",
       "      <th></th>\n",
       "      <th>acousticness</th>\n",
       "      <th>danceability</th>\n",
       "      <th>energy</th>\n",
       "      <th>liveness</th>\n",
       "      <th>rating</th>\n",
       "    </tr>\n",
       "  </thead>\n",
       "  <tbody>\n",
       "    <tr>\n",
       "      <th>0</th>\n",
       "      <td>0.93</td>\n",
       "      <td>0.32</td>\n",
       "      <td>0.14</td>\n",
       "      <td>0.18</td>\n",
       "      <td>9</td>\n",
       "    </tr>\n",
       "    <tr>\n",
       "      <th>1</th>\n",
       "      <td>0.11</td>\n",
       "      <td>0.85</td>\n",
       "      <td>0.82</td>\n",
       "      <td>0.09</td>\n",
       "      <td>2</td>\n",
       "    </tr>\n",
       "    <tr>\n",
       "      <th>2</th>\n",
       "      <td>0.75</td>\n",
       "      <td>0.36</td>\n",
       "      <td>0.39</td>\n",
       "      <td>0.12</td>\n",
       "      <td>7</td>\n",
       "    </tr>\n",
       "    <tr>\n",
       "      <th>3</th>\n",
       "      <td>0.84</td>\n",
       "      <td>0.50</td>\n",
       "      <td>0.24</td>\n",
       "      <td>0.13</td>\n",
       "      <td>8</td>\n",
       "    </tr>\n",
       "    <tr>\n",
       "      <th>4</th>\n",
       "      <td>0.88</td>\n",
       "      <td>0.33</td>\n",
       "      <td>0.18</td>\n",
       "      <td>0.09</td>\n",
       "      <td>8</td>\n",
       "    </tr>\n",
       "    <tr>\n",
       "      <th>5</th>\n",
       "      <td>0.11</td>\n",
       "      <td>0.76</td>\n",
       "      <td>0.69</td>\n",
       "      <td>0.09</td>\n",
       "      <td>2</td>\n",
       "    </tr>\n",
       "  </tbody>\n",
       "</table>\n",
       "</div>"
      ],
      "text/plain": [
       "   acousticness  danceability  energy  liveness  rating\n",
       "0          0.93          0.32    0.14      0.18       9\n",
       "1          0.11          0.85    0.82      0.09       2\n",
       "2          0.75          0.36    0.39      0.12       7\n",
       "3          0.84          0.50    0.24      0.13       8\n",
       "4          0.88          0.33    0.18      0.09       8\n",
       "5          0.11          0.76    0.69      0.09       2"
      ]
     },
     "execution_count": 6,
     "metadata": {},
     "output_type": "execute_result"
    }
   ],
   "source": [
    "df = pd.read_csv('data/a4-spotify-sample.csv')\n",
    "\n",
    "df.head(6)"
   ]
  },
  {
   "cell_type": "markdown",
   "id": "87902a7b-b94b-4867-b14c-5c10aa280d3a",
   "metadata": {},
   "source": [
    "#### 1.1 a) Calculate User Profile (5 Points)\n",
    "\n",
    "Calculate the user profile vector $v_u$ based on $u$'s rating history! Please complete the equation by adding the profile vector in the markdown cell below; use a precision of 2 decimals for all vector values.\n",
    "\n",
    "**Important:** Show at least for one element in the profile vector how you calculated the value in detail. You can use an additional code or markdown cell.\n",
    "\n",
    "**Your answer:**"
   ]
  },
  {
   "cell_type": "markdown",
   "id": "00abe218-eff0-4314-9047-d0a37f847404",
   "metadata": {},
   "source": [
    "* $v_u$ = **(Σ (Rating of item j * Feature i value of item j)) / (Σ Rating of item j)**"
   ]
  },
  {
   "cell_type": "code",
   "execution_count": 9,
   "id": "2ffcf3e9-a2bf-413e-9706-3c3c8d30d99e",
   "metadata": {},
   "outputs": [
    {
     "data": {
      "text/plain": [
       "{'acousticness': 0.77, 'danceability': 0.42, 'energy': 0.29, 'liveness': 0.13}"
      ]
     },
     "execution_count": 9,
     "metadata": {},
     "output_type": "execute_result"
    }
   ],
   "source": [
    "import numpy as np\n",
    "import pandas as pd\n",
    "\n",
    "# Load the Spotify dataset\n",
    "df = pd.read_csv('data/a4-spotify-sample.csv')\n",
    "\n",
    "# Define the user's rating history\n",
    "user_ratings = [9, 2, 7, 8, 8, 2]\n",
    "\n",
    "# Normalize the ratings to a scale from 0 to 1\n",
    "normalized_ratings = np.array(user_ratings) / 10.0\n",
    "\n",
    "# Calculate the user profile vector for each audio feature\n",
    "user_profile = {}\n",
    "\n",
    "# Define the audio features\n",
    "audio_features = ['acousticness', 'danceability', 'energy', 'liveness']\n",
    "\n",
    "# Calculate the weighted average for each feature\n",
    "for feature in audio_features:\n",
    "    weighted_sum = np.sum(normalized_ratings * df[feature])\n",
    "    weighted_average = weighted_sum / np.sum(normalized_ratings)\n",
    "    user_profile[feature] = round(weighted_average, 2)  # Round to 2 decimal places\n",
    "\n",
    "# Display the user profile vector\n",
    "user_profile"
   ]
  },
  {
   "cell_type": "markdown",
   "id": "184f37f4-e917-43ec-811d-7e9ce0932515",
   "metadata": {},
   "source": [
    "#### 1.1 b) Calculate User-Item Similarities (2 Points)\n",
    "\n",
    "Calculate all cosine similarities between user $u$ and 2 new songs as defined by their feature values! Please complete the table and the statement below; use a precision of 2 decimals for the similarity values. Based on your results, which of the 2 songs should be recommended to the user?"
   ]
  },
  {
   "cell_type": "markdown",
   "id": "f363aeae-bd91-40a9-b4a2-3a7a33d98707",
   "metadata": {},
   "source": [
    "|      | acousticness | danceability | energy | liveness | cosine similarity            |\n",
    "| ---  | ---          | ---          | ---    | ---      | ---                          |\n",
    "| A    | 0.24         | 0.72         | 0.43   | 0.02     | **0.75** |\n",
    "| B    | 0.79         | 0.32         | 0.12   | 0.09     | **0.98** |\n",
    "\n",
    "The song we should recommend to user $u$ is: **B**"
   ]
  },
  {
   "cell_type": "markdown",
   "id": "28f6ea0e-c1e7-4de9-a7b5-ec23d065c0b6",
   "metadata": {},
   "source": [
    "### 1.2 User-based Collaborative Filtering (7 Points)\n",
    "\n",
    "Given to you is a simple rating dataset containing 6 users $u_1, u_2, \\dots, u_6$, 8 songs $s_1, s_2, \\dots, s_8$, and the rating matrix $R$:\n",
    "\n",
    "$$\n",
    "R = \n",
    "\\begin{bmatrix} \n",
    "    4 & 0 & 0 & 3 & 5 & 0 & 1 & 4 \\\\\n",
    "    3 & 0 & 0 & 3 & 4 & 1 & 2 & 0 \\\\\n",
    "    1 & 0 & 0 & 2 & 0 & 5 & 4 & 2 \\\\\n",
    "    4 & 0 & 0 & 4 & 0 & 2 & 1 & 5 \\\\\n",
    "    3 & 3 & 0 & 2 & 4 & \\mathbf{\\color{red} ?}  & 1 & 2 \\\\\n",
    "    0 & 1 & 0 & 3 & 4 & 2 & 1 & 4\n",
    "\\end{bmatrix}\n",
    "$$\n",
    "\n",
    "In this example, the range of the ratings are from 1 to 5.\n",
    "\n",
    "Your overall task is to find the best estimate for rating $R_{u_5,s_6}$ of user $u_5$ for song $s_6$, indicated by the red question mark in rating matrix $R$."
   ]
  },
  {
   "cell_type": "markdown",
   "id": "48c62f72-16a3-4845-8bde-ebcd53068a9b",
   "metadata": {},
   "source": [
    "#### 1.2 a) Calculate User-User Similarities (5 Points)\n",
    "\n",
    "Calculate all cosine similarities between user $u_5$ and all other users! (5 Points)! Please complete the list of equations in the markdown below; please use a precision of 2 decimals.\n",
    "\n",
    "**Important:** Show at least for one equation how you calculate the similarity in detail. You can use an additional code or markdown cell.\n",
    "\n",
    "**Your answer:**"
   ]
  },
  {
   "cell_type": "markdown",
   "id": "4856a9a3-5ff6-40f5-9b93-af9e6f7fd2bf",
   "metadata": {},
   "source": [
    "Normalize the rating first: for each rating (if it is not 0) minus the average of all rating for the user.\n",
    "Cosine Similarity (A, B) = (A • B) / (||A|| * ||B||)\n"
   ]
  },
  {
   "cell_type": "markdown",
   "id": "197a9e69-6310-48cb-8815-77276f47172a",
   "metadata": {},
   "source": [
    "* sim($u_5$, $u_2$) = **0.64**\n",
    "* sim($u_5$, $u_3$) = **0.83**\n",
    "* sim($u_5$, $u_4$) = **0.77**\n",
    "* sim($u_5$, $u_5$) = **1.00**\n",
    "* sim($u_5$, $u_6$) = **0.76**"
   ]
  },
  {
   "cell_type": "markdown",
   "id": "9eaf5a5e-ea62-4c57-acee-5b13af2a7048",
   "metadata": {},
   "source": [
    "#### Calculate Estimated Rating (2 Points)\n",
    "\n",
    "Calculate the estimated rating $R_{u_5,s_6}$! Consider the 2 most similar users for this calculation. Show how you arrived at this result! You can use an additional code or markdown cell.\n",
    "\n",
    "**Your answer:**"
   ]
  },
  {
   "cell_type": "markdown",
   "id": "fc9a4209-3e55-489f-a919-dbc6e628a214",
   "metadata": {},
   "source": [
    "The most similar two items are u3 and u4, and they already rated the movie s6, we use their average rating to compute the result.\n",
    "Ru5,s6 = (5+2)/2 = 3.5"
   ]
  },
  {
   "cell_type": "markdown",
   "id": "e085164e-d1e5-45d0-8216-3015d06a0d4e",
   "metadata": {},
   "source": [
    "The most similar two items are u3 and u4, and they already rated the movie s6, we use their average rating to compute the result."
   ]
  },
  {
   "cell_type": "markdown",
   "id": "4ba2c5b4-9eaf-4d2d-8cd4-4166f153813d",
   "metadata": {},
   "source": [
    "* $R_{u_5,s_6}$ = **3.5**"
   ]
  },
  {
   "cell_type": "markdown",
   "id": "f032ee14-481e-4cfa-95a9-c4b748c8d617",
   "metadata": {},
   "source": [
    "### 1.3 Matrix Factorization (16 Points)\n",
    "\n",
    "Matrix Factorization -- and here more specifically: non-negative Matrix Factorization -- is a class of algorithms where a matrix $M$ is factorized into (usually) two matrices $W$ and $H$, with the property that all three matrices have no negative elements. Matrix Factorization is popular techniques applied in recommender systems, where $W$ and $H$ contain a latent representation of all users and all items, respectively, and $M$ represents the rating matrix.\n",
    "\n",
    "In this task, you will implement (non-negative) Matrix Factorization from scratch using Gradient Descent as covered in the lecture. In fact, we use the rating matrix $M$ which was used as an example in the lecture:"
   ]
  },
  {
   "cell_type": "code",
   "execution_count": 12,
   "id": "cdca2b7e-dcd6-428b-a8d5-2a40881286d6",
   "metadata": {},
   "outputs": [
    {
     "name": "stdout",
     "output_type": "stream",
     "text": [
      "[[4. 0. 0. 5. 1. 0. 0.]\n",
      " [5. 5. 4. 0. 0. 0. 0.]\n",
      " [0. 0. 0. 2. 4. 5. 0.]\n",
      " [0. 3. 0. 0. 0. 0. 3.]]\n"
     ]
    }
   ],
   "source": [
    "M = np.array([\n",
    "    [4, 0, 0, 5, 1, 0, 0],\n",
    "    [5, 5, 4, 0, 0, 0, 0],\n",
    "    [0, 0, 0, 2, 4, 5, 0],\n",
    "    [0, 3, 0, 0, 0, 0, 3]\n",
    "], dtype=np.float16)\n",
    "\n",
    "print(M)"
   ]
  },
  {
   "cell_type": "markdown",
   "id": "d4d88d1f-f2b7-4e5f-949d-cb7c4724292f",
   "metadata": {},
   "source": [
    "We provide you with the skeleton code for class `NMF` (short for Non-Negative Matrix Factorization). The code includes the initialization of matrices `W` and `H`, as well as of Matrix `Z`. Matrix `Z` is an auxiliary matrix containing the indices of all non-zero entries of Matrix `M`. Recall from the lecture that we need to compute the Gradient Descent based only on the non-zero entries in the rating matrix.\n",
    "\n",
    "The code cell below shows an example using the default parameter (`k=100`). The shapes of `W` and `H` reflect the number of users and items, as well as the size $k$ of the latent representations. The shape of `Z` is `(num_nonzero, 2)`. For example matrix `M`, the shape should be `(11, 2)` since `M` has 11 non-zero entries."
   ]
  },
  {
   "cell_type": "code",
   "execution_count": 13,
   "id": "f5ace682-51ed-4e17-92c0-544d07d3b38c",
   "metadata": {},
   "outputs": [
    {
     "name": "stdout",
     "output_type": "stream",
     "text": [
      "W.shape = (4, 100)\n",
      "H.shape = (100, 7)\n",
      "Z.shape = (11, 2)\n",
      "\n",
      "Z containing all the indices of all non-zero entries in M (first 5 entries only)\n",
      "[[0 0]\n",
      " [0 3]\n",
      " [0 4]\n",
      " [1 0]\n",
      " [1 1]]\n"
     ]
    }
   ],
   "source": [
    "np.random.seed(0)\n",
    "\n",
    "nmf = NMF(M)\n",
    "\n",
    "print('W.shape = {}'.format(nmf.W.shape))\n",
    "print('H.shape = {}'.format(nmf.H.shape))\n",
    "print('Z.shape = {}'.format(nmf.Z.shape))\n",
    "print()\n",
    "print('Z containing all the indices of all non-zero entries in M (first 5 entries only)')\n",
    "print(nmf.Z[:5])"
   ]
  },
  {
   "cell_type": "markdown",
   "id": "d70d7cfe-22e4-4439-9ce6-9c7d3635acd7",
   "metadata": {},
   "source": [
    "We also provide you with the method `calc_loss()` which calculates the loss w.r.t. the current values of matrices `W` and `H`. **Important:** Note that method implements the loss without regularization! Since we need this method only to print the loss and so to see its trend over time, this simplified calculation is sufficient."
   ]
  },
  {
   "cell_type": "code",
   "execution_count": 14,
   "id": "4160d0a6-a8e4-4007-b0b6-e68321288732",
   "metadata": {},
   "outputs": [
    {
     "name": "stdout",
     "output_type": "stream",
     "text": [
      "Initial loss: 4879.6\n"
     ]
    }
   ],
   "source": [
    "np.random.seed(0)\n",
    "\n",
    "nmf = NMF(M)\n",
    "\n",
    "loss = nmf.calc_loss()\n",
    "\n",
    "print('Initial loss: {:.1f}'.format(loss))"
   ]
  },
  {
   "cell_type": "markdown",
   "id": "afae2f59-53b6-4f7e-9a03-ff9e1996fa44",
   "metadata": {},
   "source": [
    "#### 1.3 a) Implement Non-Negative Matrix Factorization (8 Points)\n",
    "\n",
    "Implement method `fit()` to perform matrix factorization using Gradient Descent! The complete algorithm together with the required gradients is available as pseudo code in the lecture slides, and you are already familiar with the basic concept of Gradient Descent. Here, consider the regularization terms when calculating the gradients."
   ]
  },
  {
   "cell_type": "code",
   "execution_count": 18,
   "id": "2c1ba6d2-9483-4f10-bdaa-79eb36663faa",
   "metadata": {},
   "outputs": [
    {
     "name": "stdout",
     "output_type": "stream",
     "text": [
      "Loss: 4639.05435 \t 0%\n",
      "Loss: 2913.34043 \t 10%\n",
      "Loss: 1932.95768 \t 20%\n",
      "Loss: 1331.90198 \t 30%\n",
      "Loss: 943.24082 \t 40%\n",
      "Loss: 681.96065 \t 50%\n",
      "Loss: 501.09479 \t 60%\n",
      "Loss: 373.02772 \t 70%\n",
      "Loss: 280.70859 \t 80%\n",
      "Loss: 213.19062 \t 90%\n",
      "Loss: 167.58247 \t 100%\n"
     ]
    }
   ],
   "source": [
    "np.random.seed(0)\n",
    "\n",
    "nmf = NMF(M)\n",
    "\n",
    "nmf.fit(verbose=True)"
   ]
  },
  {
   "cell_type": "markdown",
   "id": "8c90fbd3-e836-4bdf-9f9a-6c71600bc4b3",
   "metadata": {},
   "source": [
    "With the default values for all parameters  (`k=100`, `learning_rate=0.0001`, `lambda_reg=0.1`, `num_iter=100`), you should see a loss around **167.6** at the end of the training.\n",
    "\n",
    "**Important:** There are 2 different but equally fine solutions to implement Gradient Descent. Either\n",
    "* Calculate gradient with respect to w_u\n",
    "* Calculate gradient with respect to h_v\n",
    "* Update w_u\n",
    "* Update h_v\n",
    "\n",
    "or:\n",
    "\n",
    "* Calculate gradient with respect to w_u\n",
    "* Update w_u\n",
    "* Calculate gradient with respect to h_v\n",
    "* Update h_v\n",
    "\n",
    "Both solutions are correct, but you should appreciate the subtle difference. The reference solution follows the first approach, the algorithm on the lecture slides follows the second approach. So if you use the second approach, your output will be slighly different, the loss at the end won't be exactly 167.6 (but very similar)."
   ]
  },
  {
   "cell_type": "markdown",
   "id": "dea656c2-7f48-4deb-a0e5-3d08e70203c0",
   "metadata": {},
   "source": [
    "**Predicting unknown ratings (nothing for you to do here).** With our learned estimates for `W` and `H`, we can simply calculate matrix `P` as the product of `W` and `H`, representing the matrix of predicted ratings. We encapsulate this simple computation in method `predict()`."
   ]
  },
  {
   "cell_type": "code",
   "execution_count": 19,
   "id": "2ab78c45-ce8e-480e-82ad-e8ae7488da70",
   "metadata": {},
   "outputs": [
    {
     "name": "stdout",
     "output_type": "stream",
     "text": [
      "[[ 7.01 10.17 11.97  7.85  5.61 10.6  12.52]\n",
      " [ 7.75  6.9   8.05 11.23  9.09 14.9  13.09]\n",
      " [ 9.66  8.97 10.36  7.02  6.81  8.33 10.76]\n",
      " [ 9.12  7.25 10.69 11.68  9.08 12.4   9.27]]\n"
     ]
    }
   ],
   "source": [
    "P = nmf.predict()\n",
    "\n",
    "print(np.around(P, 2))"
   ]
  },
  {
   "cell_type": "markdown",
   "id": "10183f47-e076-42df-ab03-a0f1f93e2c2d",
   "metadata": {},
   "source": [
    "With the default values for all parameters  (`k=100`, `learning_rate=0.0001`, `lambda_reg=0.1`, `num_iter=100`), the result should look something like this:\n",
    "\n",
    "```\n",
    "[[ 7.02 10.17 11.97  7.85  5.61 10.61 12.52]\n",
    " [ 7.75  6.9   8.05 11.22  9.09 14.9  13.09]\n",
    " [ 9.65  8.96 10.37  7.02  6.81  8.33 10.76]\n",
    " [ 9.11  7.25 10.69 11.67  9.07 12.4   9.27]]\n",
    "```"
   ]
  },
  {
   "cell_type": "markdown",
   "id": "ca350f89-76f6-4fec-94f3-6c257f692afc",
   "metadata": {},
   "source": [
    "#### 1.3 b) Hyperparameter Exploration (3 Points)\n",
    "\n",
    "Explore different hyperparameter settings and briefly explain your observations! You can use the code cell below for that; you can simply set different values for `k`, `learning_rate`, `lambda_reg`, and `num_iter`.\n",
    "\n",
    "**Your answer:**"
   ]
  },
  {
   "cell_type": "markdown",
   "id": "32207795-e0ad-4881-b051-6eceffedeecb",
   "metadata": {},
   "source": [
    "1.k (Number of Latent Features):\n",
    "\r\n",
    "When using k 15000, the model converges to a lower loss, indicating better performance.\r\n",
    "A larger k allows the model to capture more complex patterns in the da\n",
    "\n",
    "2.Learning Rate (learning_rate):\n",
    "\r\n",
    "When using lr = 0.0001, the model converges to a reasonable loss.\r\n",
    "When using lr = 0.001, the model converges much faster and to a lower loss, indicating that a higher learning rate is effective.\r\n",
    "When using lr = 0.00001, the model converges very slowly and to a relatively high loss, indicating that a too small learning rate may slow down converge\n",
    "\n",
    "3.Regularization (lambda_reg):\n",
    "\r\n",
    "When using lambda_reg = 0.1, the model performs well with a reasonable loss.\r\n",
    "When using lambda_reg = 0.01 or lambda_reg = 0.001, the model converges tohigherwer losbut not very significant(from 167.58 to 169.78 and 169.99).\n",
    "\n",
    "4.Number Of Iterations (num_iter):\n",
    "When inceasing the number of iterations, the loss significantly deceased. Increasing the 'num_iter' in iterative optimization algorithms allows the model to learn more from the data, potentially improving performance. However, it's crucial to strike a balance to avoid overfitting and consider computational constraints. \n",
    "\n",
    "In summary, the choice of hyperparameters can significantly impact the performance of the NMF model:\r\n",
    "\r\n",
    "A moderate number of latent features (k) around 100 appears to work well for the provided data.\r\n",
    "A learning rate of 0.0001 seems to strike a balance between fast convergence and good performance.\r\n",
    "Regularization with lambda_reg values of 0.01 or 0.001 may help improve the model, but careful monitoring of overfitting is needed.\r\n",
    "Increasing the number of itera 200) can lead to further improvements.es.es.nce.ta."
   ]
  },
  {
   "cell_type": "code",
   "execution_count": 53,
   "id": "7013a58e-1d94-4a63-815a-5f771528db26",
   "metadata": {},
   "outputs": [
    {
     "name": "stdout",
     "output_type": "stream",
     "text": [
      "Loss: 4639.05435 \t 0%\n",
      "Loss: 2359.82949 \t 10%\n",
      "Loss: 1331.90198 \t 20%\n",
      "Loss: 800.21653 \t 30%\n",
      "Loss: 501.09479 \t 40%\n",
      "Loss: 323.19191 \t 50%\n",
      "Loss: 213.19062 \t 60%\n",
      "Loss: 143.20947 \t 70%\n",
      "Loss: 97.70754 \t 80%\n",
      "Loss: 67.60261 \t 90%\n",
      "Loss: 48.50970 \t 100%\n",
      "\n",
      "Reconstructed rating matrix:\n",
      "[[ 5.41  8.93 10.61  6.18  3.86  9.23 11.15]\n",
      " [ 6.13  5.5   6.17  9.99  7.98 13.69 11.65]\n",
      " [ 8.31  7.67  8.93  4.83  5.19  6.4   9.26]\n",
      " [ 7.64  5.25  9.09 10.19  7.8  10.89  6.78]]\n"
     ]
    }
   ],
   "source": [
    "np.random.seed(0)\n",
    "\n",
    "k, learning_rate, lambda_reg, num_iter = 100, 0.0001, 0.1, 150\n",
    "\n",
    "nmf = NMF(M, k=k)\n",
    "\n",
    "nmf.fit(learning_rate=learning_rate, lambda_reg=lambda_reg, num_iter=num_iter, verbose=True)\n",
    "\n",
    "P = nmf.predict()\n",
    "\n",
    "print('\\nReconstructed rating matrix:')\n",
    "print(np.around(P, 2))"
   ]
  },
  {
   "cell_type": "markdown",
   "id": "a4374dd6-c24d-44b0-897d-0824f9a2781e",
   "metadata": {},
   "source": [
    "#### 1.3 c) Matrix Factorization & Updates (5 Points)\n",
    "\n",
    "You have now implemented a basic model-based recommender system using (non-negative) Matrix Factorization. Since we used only a toy rating matrix, performance was not an issue here. In real-world recommendations with many users and items, Matrix Factorization can be quite time consuming. The problem is that online platforms are very dynamic: users are joining and leaving, new items are added, users add new or update previous ratings. All of those cases change the rating matrix.\n",
    "\n",
    "**How do different cases (e.g., new user/item/rating) affect a current result of a Matrix Factorization for a recommender system? (3 Points)** Outline the different problems, and discuss meaningful approaches to mitigate them. For example, a new user or item refers to the *Cold-Start Problem*. What are good practical strategies to address the Cold-Start Problem and other changes to the rating matrix using Matrix Factorization?\n",
    "\n",
    "(Note: When you're discussing challenges regarding runtime/performance, please **exclude** any solutions relying on bigger clusters and parallel computing :). While those are valid points, in principle, here we want to focus on conceptual solutions).\n",
    "\n",
    "**Your answer:**"
   ]
  },
  {
   "cell_type": "markdown",
   "id": "cc088706-bde1-49d8-900b-307865647ad0",
   "metadata": {},
   "source": [
    "**New User (Cold-Start Problem):**\n",
    "Hybrid Recommendations: Combine Matrix Factorization with content-based recommendations for new users. Use user attributes or item metadata to make initial recommendation.ons.>Popularity-Based Recommendat:ons: Recommend popular items to new users until they provide enough ratings for personalized recommendations.iExploratory Feed:ack: Encourage new users to rate items by offering recommendations and gathering initial feedb\n",
    "\n",
    "**New Item:**\n",
    "Item Cold-Start Techniques: Use item attributes or content-based features to make initial recommendations for new items.\n",
    "Item Popularity: Promote new items as \"featured\" to increase their exposure and encourage user ratings.aItem Similarity: Consider item similarity to existing items and recommend new items to users who have rated similar items.\n",
    "\n",
    "**User Updates Ratings:**\n",
    "Real-time Updates: Implement online learning techniques that allow the model to adapt to new ratings as they arrive.\n",
    "Retraining: Periodically retrain the model using updated data to capture changes in user preferences.\n",
    "Partial Updates: Update only the affected user and item factors without retraining the entire model.\n",
    "\n",
    "**Item Updates or Removals:**\n",
    "Item Invalidation: Mark items as invalid or unavailable in the system to prevent their recommendation.\n",
    "Item Replacement: Replace outdated items with new versions and update the model accordingly.\n",
    "Data Cleanup: Regularly remove items that are no longer relevant from the rating matrix.ck.l/ol>ck."
   ]
  },
  {
   "cell_type": "markdown",
   "id": "f4e0fbf0-64cf-4238-8d47-39289e2a4d09",
   "metadata": {},
   "source": [
    "---"
   ]
  },
  {
   "cell_type": "markdown",
   "id": "34e4110c-546f-4d15-8658-b0d3f1ddb7fe",
   "metadata": {},
   "source": [
    "## Graph Mining (20 Points)\n",
    "\n",
    "### Load and Prepare Data\n",
    "\n",
    "Throughout this section we work the MRT train network as our underlying graph. The MRT stations mark the nodes, and there is an edge (directed or undirected; see below) if there is a direct train connection between the respective MRT stations.\n",
    "\n",
    "**Load data from files.** We first load the information about the MRT stations. We only need this information to have access to the latitude and longitude of the stations, so we can plot the MRT graph and preserve the relative geographic locations of the MRT stations."
   ]
  },
  {
   "cell_type": "code",
   "execution_count": 54,
   "id": "0aa810fa-f19d-4dcc-bb2f-535a46eda405",
   "metadata": {},
   "outputs": [
    {
     "data": {
      "text/html": [
       "<div>\n",
       "<style scoped>\n",
       "    .dataframe tbody tr th:only-of-type {\n",
       "        vertical-align: middle;\n",
       "    }\n",
       "\n",
       "    .dataframe tbody tr th {\n",
       "        vertical-align: top;\n",
       "    }\n",
       "\n",
       "    .dataframe thead th {\n",
       "        text-align: right;\n",
       "    }\n",
       "</style>\n",
       "<table border=\"1\" class=\"dataframe\">\n",
       "  <thead>\n",
       "    <tr style=\"text-align: right;\">\n",
       "      <th></th>\n",
       "      <th>code</th>\n",
       "      <th>name</th>\n",
       "      <th>opening_year</th>\n",
       "      <th>latitude</th>\n",
       "      <th>longitude</th>\n",
       "    </tr>\n",
       "  </thead>\n",
       "  <tbody>\n",
       "    <tr>\n",
       "      <th>0</th>\n",
       "      <td>NS1</td>\n",
       "      <td>Jurong East</td>\n",
       "      <td>1990</td>\n",
       "      <td>1.333295</td>\n",
       "      <td>103.742154</td>\n",
       "    </tr>\n",
       "    <tr>\n",
       "      <th>1</th>\n",
       "      <td>NS2</td>\n",
       "      <td>Bukit Batok</td>\n",
       "      <td>1990</td>\n",
       "      <td>1.349035</td>\n",
       "      <td>103.749526</td>\n",
       "    </tr>\n",
       "    <tr>\n",
       "      <th>2</th>\n",
       "      <td>NS3</td>\n",
       "      <td>Bukit Gombak</td>\n",
       "      <td>1990</td>\n",
       "      <td>1.358663</td>\n",
       "      <td>103.751913</td>\n",
       "    </tr>\n",
       "    <tr>\n",
       "      <th>3</th>\n",
       "      <td>NS4</td>\n",
       "      <td>Choa Chu Kang</td>\n",
       "      <td>1990</td>\n",
       "      <td>1.385363</td>\n",
       "      <td>103.744371</td>\n",
       "    </tr>\n",
       "    <tr>\n",
       "      <th>4</th>\n",
       "      <td>NS5</td>\n",
       "      <td>Yew Tee</td>\n",
       "      <td>1996</td>\n",
       "      <td>1.397476</td>\n",
       "      <td>103.747418</td>\n",
       "    </tr>\n",
       "  </tbody>\n",
       "</table>\n",
       "</div>"
      ],
      "text/plain": [
       "  code           name  opening_year  latitude   longitude\n",
       "0  NS1    Jurong East          1990  1.333295  103.742154\n",
       "1  NS2    Bukit Batok          1990  1.349035  103.749526\n",
       "2  NS3   Bukit Gombak          1990  1.358663  103.751913\n",
       "3  NS4  Choa Chu Kang          1990  1.385363  103.744371\n",
       "4  NS5        Yew Tee          1996  1.397476  103.747418"
      ]
     },
     "execution_count": 54,
     "metadata": {},
     "output_type": "execute_result"
    }
   ],
   "source": [
    "df_mrt_stations = pd.read_csv('data/a4-mrt-stations.csv')\n",
    "\n",
    "df_mrt_stations.head()"
   ]
  },
  {
   "cell_type": "markdown",
   "id": "3525a7d5-8b81-4589-b881-f8e75351ba3e",
   "metadata": {},
   "source": [
    "The following file contains the main information: Which MRT stations are directly connected with by a train. Note that the file contains each connection twice for both directions."
   ]
  },
  {
   "cell_type": "code",
   "execution_count": 55,
   "id": "4f56e12a-e1a7-4fa4-97dc-26a446263d84",
   "metadata": {},
   "outputs": [
    {
     "data": {
      "text/html": [
       "<div>\n",
       "<style scoped>\n",
       "    .dataframe tbody tr th:only-of-type {\n",
       "        vertical-align: middle;\n",
       "    }\n",
       "\n",
       "    .dataframe tbody tr th {\n",
       "        vertical-align: top;\n",
       "    }\n",
       "\n",
       "    .dataframe thead th {\n",
       "        text-align: right;\n",
       "    }\n",
       "</style>\n",
       "<table border=\"1\" class=\"dataframe\">\n",
       "  <thead>\n",
       "    <tr style=\"text-align: right;\">\n",
       "      <th></th>\n",
       "      <th>source</th>\n",
       "      <th>destination</th>\n",
       "    </tr>\n",
       "  </thead>\n",
       "  <tbody>\n",
       "    <tr>\n",
       "      <th>0</th>\n",
       "      <td>napier</td>\n",
       "      <td>stevens</td>\n",
       "    </tr>\n",
       "    <tr>\n",
       "      <th>1</th>\n",
       "      <td>kovan</td>\n",
       "      <td>serangoon</td>\n",
       "    </tr>\n",
       "    <tr>\n",
       "      <th>2</th>\n",
       "      <td>chinatown</td>\n",
       "      <td>fort canning</td>\n",
       "    </tr>\n",
       "    <tr>\n",
       "      <th>3</th>\n",
       "      <td>potong pasir</td>\n",
       "      <td>boon keng</td>\n",
       "    </tr>\n",
       "    <tr>\n",
       "      <th>4</th>\n",
       "      <td>farmway</td>\n",
       "      <td>kupang</td>\n",
       "    </tr>\n",
       "  </tbody>\n",
       "</table>\n",
       "</div>"
      ],
      "text/plain": [
       "         source   destination\n",
       "0        napier       stevens\n",
       "1         kovan     serangoon\n",
       "2     chinatown  fort canning\n",
       "3  potong pasir     boon keng\n",
       "4       farmway        kupang"
      ]
     },
     "execution_count": 55,
     "metadata": {},
     "output_type": "execute_result"
    }
   ],
   "source": [
    "df_mrt = pd.read_csv('data/a4-mrt-connections.csv')\n",
    "\n",
    "df_mrt.head()"
   ]
  },
  {
   "cell_type": "markdown",
   "id": "c8f67d28-8223-42e2-9b7d-f23e9add76b5",
   "metadata": {},
   "source": [
    "### Create Graphs\n",
    "\n",
    "From this data, we can easily create our NetworkX graph."
   ]
  },
  {
   "cell_type": "code",
   "execution_count": 56,
   "id": "8becef58-46d8-4380-86b8-eb9a1669063e",
   "metadata": {},
   "outputs": [],
   "source": [
    "## Create an \"empty\" directed graph\n",
    "G = nx.DiGraph()\n",
    "\n",
    "for idx, row in df_mrt.iterrows():\n",
    "    try:\n",
    "        df_mrt_stations.loc[df_mrt_stations.name.str.lower() == row['source']].iloc[0]\n",
    "        df_mrt_stations.loc[df_mrt_stations.name.str.lower() == row['destination']].iloc[0]\n",
    "        G.add_edge(row['source'], row['destination'])\n",
    "    except:\n",
    "        pass"
   ]
  },
  {
   "cell_type": "markdown",
   "id": "f04ada3d-f46e-4303-9bfe-e5ac8223bbec",
   "metadata": {},
   "source": [
    "We provide you with the method `plot_mrt_graph()` to visualize the train network. As mentioned before, we can utilize the information about the geo-coordinates of MRT stations to preserve their relative location. Of course the connections between the nodes / MRT stations are still just straight lines."
   ]
  },
  {
   "cell_type": "code",
   "execution_count": 57,
   "id": "daa46e78-0d1d-446f-af78-8d8dfbdcf096",
   "metadata": {},
   "outputs": [
    {
     "data": {
      "image/png": "[encoded data removed]",
      "text/plain": [
       "<Figure size 640x480 with 1 Axes>"
      ]
     },
     "metadata": {},
     "output_type": "display_data"
    }
   ],
   "source": [
    "plot_mrt_graph(G, df_mrt_stations)"
   ]
  },
  {
   "cell_type": "markdown",
   "id": "4ec3fe93-3ede-47d7-a7d0-7a652065f408",
   "metadata": {},
   "source": [
    "### 2.1 Implementing Closeness Centrality (4 Points)\n",
    "\n",
    "The Closeness Centrality of a node $v$ is defined as\n",
    "\n",
    "$$\n",
    "closeness(v) = \\frac{N}{\\sum_{w\\in V}d(v,w)}\n",
    "$$\n",
    "\n",
    "where $N$ is the number of nodes that can be reached from $v$, and $d(v,w)$ is the length of the shortest path between node $v$ and a node $w$.\n",
    "\n",
    "We saw that both distance-based centrality measure Closeness and Betweenness require the to solve the All-Pairs Shortest Paths (APSP) problem. Since this is not a \"programming\" or \"algorithms and data structures\" module, we don't expect you to come up with your own solution for the problem from scratch. For this task, you can utilize any method from [`nx.algorithms.shortest_paths`](https://networkx.org/documentation/stable/reference/algorithms/shortest_paths.html). Using a method to compute the shortest path between two nodes will make the computation of Closeness Centrality pretty straightforward.\n",
    "\n",
    "**Implement method `closeness()` to compute the Closeness Centrality of a Graph G.** You can assume the input Graph G being strongly connected, undirected, and unweighted.\n",
    "\n",
    "You can use the code cell below to test your implementation."
   ]
  },
  {
   "cell_type": "code",
   "execution_count": 60,
   "id": "12a2efe7-8867-4588-865d-6458f3cca000",
   "metadata": {},
   "outputs": [
    {
     "name": "stdout",
     "output_type": "stream",
     "text": [
      "stevens (0.14613)\n",
      "little india (0.14597)\n",
      "newton (0.14597)\n",
      "caldecott (0.14534)\n",
      "botanic gardens (0.14255)\n"
     ]
    }
   ],
   "source": [
    "my_closeness_scores = closeness(G)\n",
    "\n",
    "for station, score in sorted(my_closeness_scores.items(), key=lambda kv: kv[1], reverse=True)[:5]:\n",
    "    print('{} ({:.5f})'.format(station, score))"
   ]
  },
  {
   "cell_type": "markdown",
   "id": "1ac84638-c96f-46bf-ba1a-15d13e7437cd",
   "metadata": {},
   "source": [
    "**Compare your implementation with the one from NetworkX**. The code cell below computes the Closeness Centrality over the *undirected* MRT graph using the implementation from NetworkX, and again shows the 5 MRT stations with the highest scores. *Important:* The NetworkX implementation uses a slightly different definition of the Closeness Centrality. The exact values (typically from the 3rd decimal position onward) will differ a bit. However, the values should be very similar and the ranking of the top-5 MRT stations should be the same."
   ]
  },
  {
   "cell_type": "code",
   "execution_count": 58,
   "id": "35769187-1912-4250-ad9e-128995b82ef0",
   "metadata": {},
   "outputs": [
    {
     "name": "stdout",
     "output_type": "stream",
     "text": [
      "stevens (0.14504)\n",
      "little india (0.14488)\n",
      "newton (0.14488)\n",
      "caldecott (0.14425)\n",
      "botanic gardens (0.14149)\n"
     ]
    }
   ],
   "source": [
    "nx_closeness_scores = nx.algorithms.centrality.closeness_centrality(G, wf_improved=False)\n",
    "\n",
    "for station, score in sorted(nx_closeness_scores.items(), key=lambda kv: kv[1], reverse=True)[:5]:\n",
    "    print('{} ({:.5f})'.format(station, score))"
   ]
  },
  {
   "cell_type": "markdown",
   "id": "7f263d87-54b9-4052-827e-cb613fe1fb25",
   "metadata": {},
   "source": [
    "### 2.2 Implementing PageRank Centrality (8 Points)\n",
    "\n",
    "In this task, you will implement the basic PageRank algorithm using the Power Iteration methods as introduced in the lecture.\n",
    "\n",
    "$$\n",
    "c_{PR} = \\alpha M c_{PR} + (1-\\alpha)E\n",
    "$$\n",
    "\n",
    "where $E = (1/n, 1/n, ..., 1/n)^T$ with $n$ being the number of nodes.\n",
    "\n",
    "Recall from the lecture that PageRank requires the **transition matrix** of a graph is input. For this, we provide you with the method `create_transition_matrix(A)` that converts the adjacency matrix of a Graph G into an transition matrix. Check out also the given code in method `pagerank()` where we use a numpy method to convert the Graph G to its adjacency matrix and then call `create_transition_matrix(A)`.\n",
    "\n",
    "**Implement method `pagerank()` to compute the PageRank Centrality of a Graph G**.  You can assume the input Graph G being strongly connected, directed, and unweighted.\n",
    "\n",
    "You can use the code cell below to test your implementation."
   ]
  },
  {
   "cell_type": "code",
   "execution_count": 61,
   "id": "20e8814b-09d9-486b-9477-ab2e8fef0335",
   "metadata": {},
   "outputs": [
    {
     "name": "stdout",
     "output_type": "stream",
     "text": [
      "outram park (0.01646)\n",
      "marina bay (0.01470)\n",
      "woodlands (0.01347)\n",
      "tampines (0.01312)\n",
      "dhoby ghaut (0.01289)\n"
     ]
    }
   ],
   "source": [
    "my_pagerank_scores = pagerank(G)\n",
    "\n",
    "for station, score in sorted(my_pagerank_scores.items(), key=lambda kv: kv[1], reverse=True)[:5]:\n",
    "    print('{} ({:.5f})'.format(station, score))"
   ]
  },
  {
   "cell_type": "markdown",
   "id": "80a30bd2-0b19-49b9-b9d9-85730351563b",
   "metadata": {},
   "source": [
    "**Compare your implementation with the one from NetworkX**. The code cell below computes the PageRank Centrality over the *directed* MRT graph using the implementation from NetworkX, and again shows the 5 MRT stations with the highest scores. Apart from minor precision issues, the NetworkX result and your result should match, of course. Note that your implementation and the one of NetworkX are using the same default value for `alpha` and `eps` (called `tol` in case of NetworkX)."
   ]
  },
  {
   "cell_type": "code",
   "execution_count": 62,
   "id": "eed90d12-aad2-4dfe-a7cc-9a8eeb6fefab",
   "metadata": {},
   "outputs": [
    {
     "name": "stdout",
     "output_type": "stream",
     "text": [
      "outram park (0.01646)\n",
      "marina bay (0.01470)\n",
      "woodlands (0.01347)\n",
      "tampines (0.01312)\n",
      "dhoby ghaut (0.01288)\n"
     ]
    }
   ],
   "source": [
    "nx_pagerank_scores = nx.pagerank(G)\n",
    "\n",
    "for station, score in sorted(nx_pagerank_scores.items(), key=lambda kv: kv[1], reverse=True)[:5]:\n",
    "    print('{} ({:.5f})'.format(station, score))"
   ]
  },
  {
   "cell_type": "markdown",
   "id": "fdd463ce-f855-4c1e-b1de-b6ed8c1b5225",
   "metadata": {},
   "source": [
    "### 2.3 Comparing Centrality Measures (8 Points)\n",
    "\n",
    "We saw in the lecture that different centrality measures look at different topological features of a graph to quantify the importance of nodes. This task compares different measures, using the following implementations provided by `networkX`:\n",
    "\n",
    "* [nx.algorithms.link_analysis.pagerank](https://networkx.org/documentation/networkx-1.10/reference/generated/networkx.algorithms.link_analysis.pagerank_alg.pagerank.html)\n",
    "* [nx.centrality.in_degree_centrality](https://networkx.org/documentation/networkx-1.10/reference/generated/networkx.algorithms.centrality.in_degree_centrality.html#networkx.algorithms.centrality.in_degree_centrality)\n",
    "* [nx.centrality.out_degree_centrality](https://networkx.org/documentation/networkx-1.10/reference/generated/networkx.algorithms.centrality.out_degree_centrality.html#networkx.algorithms.centrality.out_degree_centrality)\n",
    "* [nx.centrality.closeness_centrality](https://networkx.org/documentation/networkx-1.10/reference/generated/networkx.algorithms.centrality.closeness_centrality.html#networkx.algorithms.centrality.closeness_centrality)\n",
    "* [nx.centrality.betweenness_centrality](https://networkx.org/documentation/networkx-1.10/reference/generated/networkx.algorithms.centrality.betweenness_centrality.html)\n",
    "\n",
    "(**Note:** [nx.algorithms.link_analysis.pagerank](https://networkx.org/documentation/networkx-1.10/reference/generated/networkx.algorithms.link_analysis.pagerank_alg.pagerank.html) might give a (slightly) different ranking than your own implementation of PageRank since this implementation is a bit modified. So don't take this as a 1:1 reference to check your PageRank implementation.)"
   ]
  },
  {
   "cell_type": "markdown",
   "id": "14a5f107-237f-48c0-8e59-a61db5d51354",
   "metadata": {},
   "source": [
    "#### 2.3 a) Run Off-The-Shelf Centrality Algorithms (3 Points)\n",
    "\n",
    "Run the 5 centrality measures on the MRT train network graph! Find the top-5 MRT stations with respect to their centrality scores and complete the table below. You only need to add the name of the MRT stations, not the scores. Keep in mind that different centrality measures assume a directed or undirected graph. While most algorithms will work on directed graphs, we consider the basic implementations covered in the lecture. In short, use `G_undirected` for Closeness and Betweenness.\n",
    "\n",
    "Use the code cell below to show how you get to the results; use the default values for all 5 implementations of the centrality measures.\n",
    "\n",
    "\n",
    "| Rank | PageRank | InDegree | OutDegree | Closeness | Betweenness |\n",
    "| ---  | ---      | ---      | ---       | ---         |  --- |\n",
    "| 1    | outram park | outram park | outram park | stevens | botanic gardens |\n",
    "| 2    | marina bay | dhoby ghaut | dhoby ghaut | little india | caldecott |\n",
    "| 3    | woodlands | marina bay | marina bay | newton | buona vista |\n",
    "| 4    | tampines | stevens | stevens | caldecott | bishan |\n",
    "| 5    | dhoby ghaut | serangoon | serangoon | botanic gardens | newton |"
   ]
  },
  {
   "cell_type": "code",
   "execution_count": 66,
   "id": "07f8a789-d15c-49a1-8088-e0d90b23c7c9",
   "metadata": {},
   "outputs": [
    {
     "name": "stdout",
     "output_type": "stream",
     "text": [
      "Rank\tPageRank\tInDegree\tOutDegree\tCloseness\tBetweenness\n",
      "1\toutram park\toutram park\toutram park\tstevens\tbotanic gardens\n",
      "2\tmarina bay\tdhoby ghaut\tdhoby ghaut\tlittle india\tcaldecott\n",
      "3\twoodlands\tmarina bay\tmarina bay\tnewton\tbuona vista\n",
      "4\ttampines\tstevens\tstevens\tcaldecott\tbishan\n",
      "5\tdhoby ghaut\tserangoon\tserangoon\tbotanic gardens\tnewton\n"
     ]
    }
   ],
   "source": [
    "#########################################################################################\n",
    "### Your code starts here ###############################################################\n",
    "# Convert the directed graph to an undirected graph\n",
    "G_undirected = G.to_undirected()\n",
    "\n",
    "# Run centrality measures on the MRT train network graph\n",
    "pagerank_scores = nx.algorithms.link_analysis.pagerank(G)\n",
    "in_degree_centrality = nx.centrality.in_degree_centrality(G)\n",
    "out_degree_centrality = nx.centrality.out_degree_centrality(G)\n",
    "closeness_centrality = nx.centrality.closeness_centrality(G_undirected)\n",
    "betweenness_centrality = nx.centrality.betweenness_centrality(G_undirected)\n",
    "\n",
    "# Find the top-5 MRT stations for each centrality measure\n",
    "top_pagerank = sorted(pagerank_scores, key=pagerank_scores.get, reverse=True)[:5]\n",
    "top_in_degree = sorted(in_degree_centrality, key=in_degree_centrality.get, reverse=True)[:5]\n",
    "top_out_degree = sorted(out_degree_centrality, key=out_degree_centrality.get, reverse=True)[:5]\n",
    "top_closeness = sorted(closeness_centrality, key=closeness_centrality.get, reverse=True)[:5]\n",
    "top_betweenness = sorted(betweenness_centrality, key=betweenness_centrality.get, reverse=True)[:5]\n",
    "\n",
    "# Print the results in the table\n",
    "print(\"Rank\\tPageRank\\tInDegree\\tOutDegree\\tCloseness\\tBetweenness\")\n",
    "for rank in range(1, 6):\n",
    "    print(f\"{rank}\\t{top_pagerank[rank-1]}\\t{top_in_degree[rank-1]}\\t{top_out_degree[rank-1]}\\t{top_closeness[rank-1]}\\t{top_betweenness[rank-1]}\")\n",
    "\n",
    "### Your code ends here #################################################################\n",
    "#########################################################################################  "
   ]
  },
  {
   "cell_type": "markdown",
   "id": "f0148221-6a5a-4b84-aebb-17ae5425c07c",
   "metadata": {},
   "source": [
    "#### 2.3 b) Discussion of Results (5 Points)\n",
    "\n",
    "Discuss the results and your observations! Based on the definitions and intuitions behind these 5 different centrality measures, discuss the results of 2.2 a): For each centrality, briefly describe what it means for a MRT station to have the highest score!\n",
    "\n",
    "**Your answer:**"
   ]
  },
  {
   "cell_type": "markdown",
   "id": "944177f5-b9a1-4b00-9294-cbe0b772fae0",
   "metadata": {},
   "source": [
    "1.PageRank Centrality:PageRank is an algorithm used by search engines to rank web pages. In the context of the MRT network, a MRT station with the highest PageRank score indicates that it is a highly influential station. It suggests that this station is not only well-connected but is also connected to other important stations, making it a hub for commuters. And the top is Outram Park in this case which also reconfirm the result in 2.2a where outram park has the highest score of 0.01646.\n",
    "\n",
    "2.In-Degree Centrality:In-degree centrality measures the number of incoming connections to a node. In the case of MRT stations, a station with the highest in-degree centrality has the most incoming train connections. This means that it is a station where many different train lines converge, making it a major transfer point. Since outram park has the highest PageRank, it is likely to have a highest InDegree. However, this alignment is not guaranteed, and there are situations where other factors, such as the quality of connections or the overall network structure, can influence the rankings differently.\n",
    "\n",
    "3.Out-Degree Centrality:\r\n",
    "Out-degree centrality measures the number of outgoing connections from a node. In the context of MRT stations, a station with the highest out-degree centrality has the most outgoing train connections. It suggests that this station provides access to multiple destinations, making it an important starting point for commuter Since outram park has the highest Indegree, it must has the highest outdegree, same for the rest of the stations in the InDegree rank.\n",
    "\n",
    "4.Closeness Centrality:\r\n",
    "Closeness centrality measures how quickly a station can reach all other stations in the network. A station with the highest closeness centrality is located in a way that it can quickly reach most other stations, indicating its strategic location and ease of access to other parts of the networ And for the stations in the top 5 are all interchanges(botanic garden(blue&yellow), stevens(blue&brown), little india(blue&purple), newton(red&blue)). They are near the center of singapore or on the circle line which is a line that you can have access to other lines quickly.k\n",
    "\n",
    "5.Betweenness Centrality:\r\n",
    "Betweenness centrality quantifies the extent to which a station lies on the shortest paths between other stations. A station with the highest betweenness centrality acts as a bridge or bottleneck in the network. It means that this station is crucial for connecting different parts of the network, and removing it could disrupt the network's connectivit Similar to closeness centrality, a station with high beweenness centrality, should have easy access to other lines, not to our suprise, the top four (botanic gardens, caldecott, buona vista, bishan) are all on the circle line and the last one is only two stations away from the circle line and is very near to the center of the map.y..s.\n",
    "\n"
   ]
  },
  {
   "cell_type": "code",
   "execution_count": null,
   "id": "7d95e73a-7d51-45e1-bca1-34b096f27496",
   "metadata": {},
   "outputs": [],
   "source": []
  }
 ],
 "metadata": {
  "kernelspec": {
   "display_name": "Python 3 (ipykernel)",
   "language": "python",
   "name": "python3"
  },
  "language_info": {
   "codemirror_mode": {
    "name": "ipython",
    "version": 3
   },
   "file_extension": ".py",
   "mimetype": "text/x-python",
   "name": "python",
   "nbconvert_exporter": "python",
   "pygments_lexer": "ipython3",
   "version": "3.10.7"
  }
 },
 "nbformat": 4,
 "nbformat_minor": 5
}
